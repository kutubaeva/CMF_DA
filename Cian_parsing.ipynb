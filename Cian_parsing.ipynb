{
 "cells": [
  {
   "cell_type": "markdown",
   "metadata": {},
   "source": [
    "# Парсинг сайта cian.ru"
   ]
  },
  {
   "cell_type": "code",
   "execution_count": 1,
   "metadata": {
    "collapsed": true
   },
   "outputs": [],
   "source": [
    "import requests\n",
    "import re\n",
    "from bs4 import BeautifulSoup\n",
    "import pandas as pd\n",
    "import time\n",
    "import math"
   ]
  },
  {
   "cell_type": "code",
   "execution_count": 2,
   "metadata": {
    "collapsed": true
   },
   "outputs": [],
   "source": [
    "def html_stripper(text):\n",
    "    return re.sub('<[^<]+?>', '', str(text))"
   ]
  },
  {
   "cell_type": "markdown",
   "metadata": {},
   "source": [
    "# Функции, загружающие наши данные со страниц квартир:"
   ]
  },
  {
   "cell_type": "markdown",
   "metadata": {},
   "source": [
    "### Цена"
   ]
  },
  {
   "cell_type": "code",
   "execution_count": 6,
   "metadata": {
    "collapsed": true
   },
   "outputs": [],
   "source": [
    "def getPrice(flat_page):\n",
    "    price = flat_page.find('div', attrs={'class':'object_descr_price'})\n",
    "    price = re.split('<div>|руб|\\W', str(price))\n",
    "    price = \"\".join([i for i in price if i.isdigit()][-3:])\n",
    "    return int(price)"
   ]
  },
  {
   "cell_type": "markdown",
   "metadata": {},
   "source": [
    "### Координаты квартиры: широта, долгота и расстояние от центра до квартиры (Lat, lon, dist). Возьмём формулу гаверсинуса:"
   ]
  },
  {
   "cell_type": "code",
   "execution_count": 77,
   "metadata": {
    "collapsed": true
   },
   "outputs": [],
   "source": [
    "from math import radians, cos, sin, asin, sqrt\n",
    "avg_radius = 6371\n",
    "\n",
    "def getDist(flat_page):\n",
    "    coords = flat_page.find('div', attrs={'class':'map_info_button_extend'}).contents[1]\n",
    "    coords = re.split('&amp|center=|%2C', str(coords))\n",
    "    coords_list = []\n",
    "    for item in coords:\n",
    "        if item[0].isdigit():\n",
    "            coords_list.append(item)\n",
    "    lat = float(coords_list[0])\n",
    "    lon = float(coords_list[1])\n",
    "    #Haversine distance:\n",
    "    #за центр Москвы и вообще вселенной взяли Мавзолей, его координаты – 55.753639, 37.619833\n",
    "    lat1, lon1, latC, lonC = map(radians, (lat, lon, 55.753639, 37.619833))\n",
    "    d = sin((latC - lat1) * 0.5) ** 2 + cos(lat1) * cos(latC) * sin((lonC - lon1) * 0.5) ** 2\n",
    "    h = 2 * avg_radius * asin(sqrt(d))\n",
    "    return lat, lon, h   "
   ]
  },
  {
   "cell_type": "markdown",
   "metadata": {},
   "source": [
    "###  Число комнат:"
   ]
  },
  {
   "cell_type": "code",
   "execution_count": 8,
   "metadata": {
    "collapsed": true
   },
   "outputs": [],
   "source": [
    "def getRooms(flat_page):\n",
    "    rooms = flat_page.find('div', attrs={'class':'object_descr_title'})\n",
    "    rooms = html_stripper(rooms)\n",
    "    room_number = ''\n",
    "    for i in re.split('-|\\n', rooms):\n",
    "        if 'комн' in i:\n",
    "            break\n",
    "        else:\n",
    "            room_number += i\n",
    "    room_number = \"\".join(room_number.split())\n",
    "    return room_number"
   ]
  },
  {
   "cell_type": "markdown",
   "metadata": {},
   "source": [
    "### Этаж:"
   ]
  },
  {
   "cell_type": "code",
   "execution_count": 9,
   "metadata": {
    "collapsed": true
   },
   "outputs": [],
   "source": [
    "def getFloor(flat_page):\n",
    "    table = flat_page.find('table', attrs = {'class':'object_descr_props'})\n",
    "    table = html_stripper(table)\n",
    "    floor_info = re.split('Этаж|Тип дома', table)[1]\n",
    "    try:\n",
    "        floor = \"\".join([i for i in floor_info if i.isdigit()][0])\n",
    "    except IndexError:\n",
    "        return None\n",
    "    else:\n",
    "        return floor"
   ]
  },
  {
   "cell_type": "markdown",
   "metadata": {},
   "source": [
    "### Число вообще этажей в доме:"
   ]
  },
  {
   "cell_type": "code",
   "execution_count": 10,
   "metadata": {
    "collapsed": false
   },
   "outputs": [],
   "source": [
    "def getNfloors(flat_page):\n",
    "    table = flat_page.find('table', attrs = {'class':'object_descr_props'})\n",
    "    table = html_stripper(table)\n",
    "    floor_info = re.split('Этаж|Тип дома', table)[1]\n",
    "    try:\n",
    "        nfloors = \"\".join([i for i in floor_info if i.isdigit()][1])\n",
    "    except IndexError:\n",
    "        return None\n",
    "    else:\n",
    "        return nfloors   "
   ]
  },
  {
   "cell_type": "markdown",
   "metadata": {},
   "source": [
    "### Новый дом ли дом:"
   ]
  },
  {
   "cell_type": "code",
   "execution_count": 11,
   "metadata": {
    "collapsed": true
   },
   "outputs": [],
   "source": [
    "def getNew(flat_page):\n",
    "    table = flat_page.find('table', attrs = {'class':'object_descr_props'})\n",
    "    table = html_stripper(table)\n",
    "    house_type = re.split('Тип дома:|Высота потолков:', table)[1]\n",
    "    house_type = re.split('\\n|,', house_type)\n",
    "    house_type = \"\".join(house_type[2].split())\n",
    "    if house_type == 'новостройка':\n",
    "        new = 1\n",
    "    elif house_type == 'вторичка':\n",
    "        new = 0\n",
    "    else:\n",
    "        new = None\n",
    "    return new"
   ]
  },
  {
   "cell_type": "markdown",
   "metadata": {},
   "source": [
    "### Тип дома:"
   ]
  },
  {
   "cell_type": "code",
   "execution_count": 12,
   "metadata": {
    "collapsed": true
   },
   "outputs": [],
   "source": [
    "def getBrick(flat_page):\n",
    "    table = flat_page.find('table', attrs = {'class':'object_descr_props'})\n",
    "    table = html_stripper(table)\n",
    "    house_type = re.split('Тип дома:|Высота потолков:', table)[1]\n",
    "    house_type = re.split('\\n|,', house_type)\n",
    "    try:\n",
    "        house_type = \"\".join(house_type[4].split())\n",
    "    except IndexError:\n",
    "        return None\n",
    "    else:\n",
    "        brick = 1 if house_type in ['кирпичный', 'кирпично-монолитный', 'монолитный', 'панельный дом', 'панельный'] else 0\n",
    "        return brick"
   ]
  },
  {
   "cell_type": "markdown",
   "metadata": {},
   "source": [
    "### Есть ли балкон:"
   ]
  },
  {
   "cell_type": "code",
   "execution_count": 13,
   "metadata": {
    "collapsed": true
   },
   "outputs": [],
   "source": [
    "def getBal(flat_page):\n",
    "    table = flat_page.find('table', attrs = {'class':'object_descr_props'})\n",
    "    table = html_stripper(table)\n",
    "    balcony_info = re.split('Балкон:|Лифт', table)[1]\n",
    "    balcony = re.split('\\n', balcony_info)[1]\n",
    "    balcony = 1 if ''.join(balcony.split()[0]).isdigit() else 0\n",
    "    return balcony"
   ]
  },
  {
   "cell_type": "markdown",
   "metadata": {},
   "source": [
    "### Сколько балконов:"
   ]
  },
  {
   "cell_type": "code",
   "execution_count": 14,
   "metadata": {
    "collapsed": true
   },
   "outputs": [],
   "source": [
    "def getBalNum(flat_page):\n",
    "    table = flat_page.find('table', attrs = {'class':'object_descr_props'})\n",
    "    table = html_stripper(table)\n",
    "    balcony_info = re.split('Балкон:|Лифт', table)[1]\n",
    "    balcony = re.split('\\n', balcony_info)[1]\n",
    "    balcony_number = ''.join(balcony.split()[0]) if ''.join(balcony.split()[0]).isdigit() else 0\n",
    "    return balcony_number"
   ]
  },
  {
   "cell_type": "markdown",
   "metadata": {},
   "source": [
    "### Площадь квартиры:"
   ]
  },
  {
   "cell_type": "code",
   "execution_count": 15,
   "metadata": {
    "collapsed": true
   },
   "outputs": [],
   "source": [
    "def getTotsp(flat_page):\n",
    "    table = flat_page.find('table', attrs = {'class':'object_descr_props'})\n",
    "    table = html_stripper(table)\n",
    "    totsp = re.split('Общая площадь:|Площадь комнат', table)[1]\n",
    "    totsp = re.split('\\n|\\xa0', totsp)[2].replace(',', '.')\n",
    "    return totsp"
   ]
  },
  {
   "cell_type": "markdown",
   "metadata": {},
   "source": [
    "### Площадь жилых помещений:"
   ]
  },
  {
   "cell_type": "code",
   "execution_count": 16,
   "metadata": {
    "collapsed": true
   },
   "outputs": [],
   "source": [
    "def getLivesp(flat_page):\n",
    "    table = flat_page.find('table', attrs = {'class':'object_descr_props'})\n",
    "    table = html_stripper(table)\n",
    "    livesp = re.split('Жилая площадь:|Площадь кухни', table)[1]\n",
    "    livesp = re.split('\\xa0', livesp)[0]\n",
    "    livesp = ''.join(i for i in livesp if i.isdigit() or i==',' or i == '.').replace(',', '.')\n",
    "    return livesp"
   ]
  },
  {
   "cell_type": "markdown",
   "metadata": {},
   "source": [
    "### Площадь кухни:"
   ]
  },
  {
   "cell_type": "code",
   "execution_count": 17,
   "metadata": {
    "collapsed": true
   },
   "outputs": [],
   "source": [
    "def getKitsp(flat_page):\n",
    "    table = flat_page.find('table', attrs = {'class':'object_descr_props'})\n",
    "    table = html_stripper(table)\n",
    "    kitsp = re.split('Площадь кухни:|Санузел|Раздельных санузлов|Совмещенных санузлов', table)[1]\n",
    "    kitsp = re.split('\\xa0', kitsp)[0]\n",
    "    kitsp = ''.join([i for i in kitsp.split() if i.isdigit() or i==',' and i != '\\n']).replace(',', '.')    \n",
    "    return kitsp"
   ]
  },
  {
   "cell_type": "markdown",
   "metadata": {},
   "source": [
    "### В шаговой ли доступности:"
   ]
  },
  {
   "cell_type": "code",
   "execution_count": 18,
   "metadata": {
    "collapsed": true
   },
   "outputs": [],
   "source": [
    "def getWalk(flat_page):\n",
    "    walk_info = flat_page.find('span', attrs = {'class': 'object_item_metro_comment'})\n",
    "    walk_info = html_stripper(walk_info)\n",
    "    if walk_info is None:\n",
    "        return walk_info\n",
    "    else:\n",
    "        try:\n",
    "            walk = re.split('\\n', walk_info)[4]\n",
    "        except IndexError:\n",
    "            return None\n",
    "        else:\n",
    "            walk = ''.join(walk.split())\n",
    "            walk = 1 if walk == 'пешком' else 0\n",
    "            return walk"
   ]
  },
  {
   "cell_type": "markdown",
   "metadata": {},
   "source": [
    "### Сколько минут до метро:"
   ]
  },
  {
   "cell_type": "code",
   "execution_count": 19,
   "metadata": {
    "collapsed": true
   },
   "outputs": [],
   "source": [
    "def getMetrdist(flat_page):\n",
    "    metrdist = flat_page.find('span', attrs = {'class': 'object_item_metro_comment'})\n",
    "    metrdist = html_stripper(metrdist)\n",
    "    if metrdist == 'None':\n",
    "        return metrdist\n",
    "    else:\n",
    "        metrdist = re.split('\\n', metrdist)[1]\n",
    "        metrdist = ''.join(metrdist.split())\n",
    "        return metrdist"
   ]
  },
  {
   "cell_type": "markdown",
   "metadata": {},
   "source": [
    "### Контакт арендатора:"
   ]
  },
  {
   "cell_type": "code",
   "execution_count": 20,
   "metadata": {
    "collapsed": true
   },
   "outputs": [],
   "source": [
    "def getTel(flat_page):\n",
    "    tel = flat_page.find('div', attrs = {'class': 'realtor-card__phone'})\n",
    "    tel = html_stripper(tel)\n",
    "    if tel == 'None':\n",
    "        tel = 0\n",
    "    else:\n",
    "        #tel = re.split('\\n', tel)[1]\n",
    "        tel = 1\n",
    "    return tel"
   ]
  },
  {
   "cell_type": "markdown",
   "metadata": {},
   "source": [
    "# Само извлечение"
   ]
  },
  {
   "cell_type": "markdown",
   "metadata": {},
   "source": [
    "### Извлечение кода с помощью getPage(getSubpageLink()):"
   ]
  },
  {
   "cell_type": "code",
   "execution_count": 21,
   "metadata": {
    "collapsed": true
   },
   "outputs": [],
   "source": [
    "def getPage(link):\n",
    "    page = requests.get(link).content\n",
    "    page = BeautifulSoup(page, 'lxml')\n",
    "    return page"
   ]
  },
  {
   "cell_type": "code",
   "execution_count": 22,
   "metadata": {
    "collapsed": true
   },
   "outputs": [],
   "source": [
    "def getSubpageLink(link):\n",
    "    return 'http://www.cian.ru/sale/flat/' + str(link) + '/'"
   ]
  },
  {
   "cell_type": "markdown",
   "metadata": {},
   "source": [
    "### Страницы округов"
   ]
  },
  {
   "cell_type": "code",
   "execution_count": 23,
   "metadata": {
    "collapsed": false
   },
   "outputs": [],
   "source": [
    "neighbourhoods = ['ЦАО','САО', 'СВАО', 'ВАО','ЮВАО', 'ЮАО','ЮЗАО','ЗАО','СЗАО','ЗелАО','НАО', 'ТАО']\n",
    "districts = ['http://www.cian.ru/cat.php?deal_type=sale&district%5B0%5D=13&district%5B1%5D=14&district%5B2%5D=15&district%5B3%5D=16&district%5B4%5D=17&district%5B5%5D=18&district%5B6%5D=19&district%5B7%5D=20&district%5B8%5D=21&district%5B9%5D=22&engine_version=2&offer_type=flat&p={}&room1=1&room2=1&room3=1&room4=1&room5=1&room6=1',\n",
    "           'http://www.cian.ru/cat.php?deal_type=sale&district%5B0%5D=23&district%5B10%5D=33&district%5B11%5D=34&district%5B12%5D=35&district%5B13%5D=36&district%5B14%5D=37&district%5B15%5D=38&district%5B1%5D=24&district%5B2%5D=25&district%5B3%5D=26&district%5B4%5D=27&district%5B5%5D=28&district%5B6%5D=29&district%5B7%5D=30&district%5B8%5D=31&district%5B9%5D=32&engine_version=2&offer_type=flat&p={}&room1=1&room2=1&room3=1&room4=1&room5=1&room6=1',\n",
    "           'http://www.cian.ru/cat.php?deal_type=sale&district%5B0%5D=39&district%5B10%5D=49&district%5B11%5D=50&district%5B12%5D=51&district%5B13%5D=52&district%5B14%5D=53&district%5B15%5D=54&district%5B16%5D=55&district%5B1%5D=40&district%5B2%5D=41&district%5B3%5D=42&district%5B4%5D=43&district%5B5%5D=44&district%5B6%5D=45&district%5B7%5D=46&district%5B8%5D=47&district%5B9%5D=48&engine_version=2&offer_type=flat&p={}&room1=1&room2=1&room3=1&room4=1&room5=1&room6=1',\n",
    "           'http://www.cian.ru/cat.php?deal_type=sale&district%5B0%5D=56&district%5B10%5D=66&district%5B11%5D=67&district%5B12%5D=68&district%5B13%5D=69&district%5B14%5D=70&district%5B15%5D=71&district%5B1%5D=57&district%5B2%5D=58&district%5B3%5D=59&district%5B4%5D=60&district%5B5%5D=61&district%5B6%5D=62&district%5B7%5D=63&district%5B8%5D=64&district%5B9%5D=65&engine_version=2&offer_type=flat&p={}&room1=1&room2=1&room3=1&room4=1&room5=1&room6=1',\n",
    "           'http://www.cian.ru/cat.php?deal_type=sale&district%5B0%5D=72&district%5B10%5D=82&district%5B11%5D=83&district%5B1%5D=73&district%5B2%5D=74&district%5B3%5D=75&district%5B4%5D=76&district%5B5%5D=77&district%5B6%5D=78&district%5B7%5D=79&district%5B8%5D=80&district%5B9%5D=81&engine_version=2&offer_type=flat&p={}&room1=1&room2=1&room3=1&room4=1&room5=1&room6=1',\n",
    "           'http://www.cian.ru/cat.php?deal_type=sale&district%5B0%5D=84&district%5B10%5D=94&district%5B11%5D=95&district%5B12%5D=96&district%5B13%5D=97&district%5B14%5D=98&district%5B15%5D=99&district%5B1%5D=85&district%5B2%5D=86&district%5B3%5D=87&district%5B4%5D=88&district%5B5%5D=89&district%5B6%5D=90&district%5B7%5D=91&district%5B8%5D=92&district%5B9%5D=93&engine_version=2&offer_type=flat&p={}&room1=1&room2=1&room3=1&room4=1&room5=1&room6=1',\n",
    "           'http://www.cian.ru/cat.php?deal_type=sale&district%5B0%5D=100&district%5B10%5D=110&district%5B11%5D=111&district%5B1%5D=101&district%5B2%5D=102&district%5B3%5D=103&district%5B4%5D=104&district%5B5%5D=105&district%5B6%5D=106&district%5B7%5D=107&district%5B8%5D=108&district%5B9%5D=109&engine_version=2&offer_type=flat&p={}&room1=1&room2=1&room3=1&room4=1&room5=1&room6=1',\n",
    "           'http://www.cian.ru/cat.php?deal_type=sale&district%5B0%5D=112&district%5B10%5D=122&district%5B11%5D=123&district%5B12%5D=124&district%5B13%5D=348&district%5B14%5D=349&district%5B15%5D=350&district%5B1%5D=113&district%5B2%5D=114&district%5B3%5D=115&district%5B4%5D=116&district%5B5%5D=117&district%5B6%5D=118&district%5B7%5D=119&district%5B8%5D=120&district%5B9%5D=121&engine_version=2&offer_type=flat&p={}&room1=1&room2=1&room3=1&room4=1&room5=1&room6=1',\n",
    "           'http://www.cian.ru/cat.php?deal_type=sale&district%5B0%5D=125&district%5B1%5D=126&district%5B2%5D=127&district%5B3%5D=128&district%5B4%5D=129&district%5B5%5D=130&district%5B6%5D=131&district%5B7%5D=132&engine_version=2&offer_type=flat&p={}&room1=1&room2=1&room3=1&room4=1&room5=1&room6=1',\n",
    "           'http://www.cian.ru/cat.php?deal_type=sale&district%5B0%5D=152&district%5B1%5D=153&district%5B2%5D=154&district%5B3%5D=355&district%5B4%5D=356&district%5B5%5D=357&district%5B6%5D=358&engine_version=2&offer_type=flat&p={}&room1=1&room2=1&room3=1&room4=1&room5=1&room6=1',\n",
    "           'http://www.cian.ru/cat.php?deal_type=sale&district%5B0%5D=327&district%5B10%5D=337&district%5B1%5D=328&district%5B2%5D=329&district%5B3%5D=330&district%5B4%5D=331&district%5B5%5D=332&district%5B6%5D=333&district%5B7%5D=334&district%5B8%5D=335&district%5B9%5D=336&engine_version=2&offer_type=flat&p={}&room1=1&room2=1&room3=1&room4=1&room5=1&room6=1',\n",
    "           'http://www.cian.ru/cat.php?deal_type=sale&district%5B0%5D=338&district%5B1%5D=339&district%5B2%5D=340&district%5B3%5D=341&district%5B4%5D=342&district%5B5%5D=343&district%5B6%5D=344&district%5B7%5D=345&district%5B8%5D=346&district%5B9%5D=347&engine_version=2&offer_type=flat&p={}&room1=1&room2=1&room3=1&room4=1&room5=1&room6=1']"
   ]
  },
  {
   "cell_type": "markdown",
   "metadata": {},
   "source": [
    "### Соберем ссылки на страницы квартир с первых 30 страниц в поиске по каждому округу."
   ]
  },
  {
   "cell_type": "code",
   "execution_count": 24,
   "metadata": {
    "collapsed": false,
    "scrolled": true
   },
   "outputs": [],
   "source": [
    "def getLinks0(district, pages):\n",
    "    links = []\n",
    "    for page in pages:\n",
    "        page_url =  district.format(page)\n",
    "\n",
    "        search_page = getPage(page_url)\n",
    "\n",
    "        flat_urls = search_page.findAll('div', attrs = {'ng-class':\"{'serp-item_removed': offer.remove.state, 'serp-item_popup-opened': isPopupOpen}\"})\n",
    "        flat_urls = re.split('http://www.cian.ru/sale/flat/|/\" ng-class=\"', str(flat_urls))\n",
    "\n",
    "        for link in flat_urls:\n",
    "            if link.isdigit():\n",
    "                links.append(link)\n",
    "    return links"
   ]
  },
  {
   "cell_type": "markdown",
   "metadata": {},
   "source": [
    "Заметим, что если в округе предложений квартир меньше, то при отсутствии следующей страницы когда следующей страницы, цикл снова собирает ссылки на уже обработанных страницах. Поэтому удалим из списка ссылок дубликаты, сохранив их порядок"
   ]
  },
  {
   "cell_type": "code",
   "execution_count": 25,
   "metadata": {
    "collapsed": false,
    "scrolled": true
   },
   "outputs": [
    {
     "data": {
      "text/plain": [
       "['150987610',\n",
       " '148433138',\n",
       " '150130411',\n",
       " '148505839',\n",
       " '150987610',\n",
       " '148433138',\n",
       " '150130411',\n",
       " '148505839',\n",
       " '150987610',\n",
       " '148433138',\n",
       " '150130411',\n",
       " '148505839']"
      ]
     },
     "execution_count": 25,
     "metadata": {},
     "output_type": "execute_result"
    }
   ],
   "source": [
    "ZelAOlinks = getLinks0(districts[9], pages = range(1, 4, 1))\n",
    "ZelAOlinks"
   ]
  },
  {
   "cell_type": "markdown",
   "metadata": {},
   "source": [
    "Видим, что в Зеленоградском АО 4 квартиры, которые помещаются на 1 странице, а в списке данные с этой одной страницы записаны 3 раза. Удаляем повторы, сохраняя порядок. Пусть и прочитали их - это не так долго."
   ]
  },
  {
   "cell_type": "code",
   "execution_count": 27,
   "metadata": {
    "collapsed": false
   },
   "outputs": [
    {
     "data": {
      "text/plain": [
       "['150987610', '148433138', '150130411', '148505839']"
      ]
     },
     "execution_count": 27,
     "metadata": {},
     "output_type": "execute_result"
    }
   ],
   "source": [
    "from collections import OrderedDict\n",
    "\n",
    "uniquelinks = list(OrderedDict.fromkeys(ZelAOlinks))\n",
    "uniquelinks"
   ]
  },
  {
   "cell_type": "markdown",
   "metadata": {},
   "source": [
    "### Функция, достающая ссылки:"
   ]
  },
  {
   "cell_type": "code",
   "execution_count": 31,
   "metadata": {
    "collapsed": true
   },
   "outputs": [],
   "source": [
    "def getLinks(district, total_pages):\n",
    "    links = []\n",
    "    for page in total_pages:\n",
    "        page_url =  district.format(page)\n",
    "\n",
    "        search_page = getPage(page_url)\n",
    "\n",
    "        flat_urls = search_page.findAll('div', attrs = {'ng-class':\"{'serp-item_removed': offer.remove.state, 'serp-item_popup-opened': isPopupOpen}\"})\n",
    "        flat_urls = re.split('http://www.cian.ru/sale/flat/|/\" ng-class=\"', str(flat_urls))\n",
    "\n",
    "        for link in flat_urls:\n",
    "            if link.isdigit():\n",
    "                links.append(link)\n",
    "    links = list(OrderedDict.fromkeys(links))\n",
    "    return links"
   ]
  },
  {
   "cell_type": "code",
   "execution_count": 32,
   "metadata": {
    "collapsed": false
   },
   "outputs": [
    {
     "data": {
      "text/plain": [
       "['150987610', '148433138', '150130411', '148505839']"
      ]
     },
     "execution_count": 32,
     "metadata": {},
     "output_type": "execute_result"
    }
   ],
   "source": [
    "getLinks(districts[9], total_pages = range(1, 4, 1))"
   ]
  },
  {
   "cell_type": "markdown",
   "metadata": {},
   "source": [
    "### Порядковый номер итерации (=номер квартиры в каждом округе, т.к. собирать будем данные отдельно по округам):"
   ]
  },
  {
   "cell_type": "code",
   "execution_count": 33,
   "metadata": {
    "collapsed": true
   },
   "outputs": [],
   "source": [
    "def getN(iter_item):\n",
    "    return iter_item + 1"
   ]
  },
  {
   "cell_type": "markdown",
   "metadata": {},
   "source": [
    "### Функция, которая будет доставать данные"
   ]
  },
  {
   "cell_type": "code",
   "execution_count": 34,
   "metadata": {
    "collapsed": false
   },
   "outputs": [],
   "source": [
    "def ParseDistrict(district_number, pages_range, csv_file = False, file_name = 0):\n",
    "    CIANDATA = pd.DataFrame(columns=['District', 'N', 'Rooms', 'Price', 'Totsp', 'Livesp', 'Kitsp',  'Lat', 'Lon', 'Dist', \n",
    "                 'Metrdist', 'Walk', 'Brick', 'Tel', 'Bal', 'Floor', 'Nfloors', 'New'])\n",
    "    district = districts[district_number]\n",
    "    count = 0\n",
    "    links = getLinks(district, pages_range)\n",
    "    for link in range(len(links)):\n",
    "        try:\n",
    "            flat_page = getPage(getSubpageLink(links[link]))\n",
    "            to_append = {'District': district_number, 'N': getN(link), 'Rooms': getRooms(flat_page), 'Price': getPrice(flat_page), 'Totsp': getTotsp(flat_page), 'Livesp': getLivesp(flat_page), 'Kitsp': getKitsp(flat_page), 'Lat': getDist(flat_page)[0], 'Lon': getDist(flat_page)[1], 'Dist': getDist(flat_page)[2], 'Metrdist': getMetrdist(flat_page), 'Walk': getWalk(flat_page), 'Brick': getBrick(flat_page), 'Tel': getTel(flat_page), 'Bal': getBal(flat_page), 'Floor': getFloor(flat_page), 'Nfloors': getNfloors(flat_page), 'New': getNew(flat_page)}\n",
    "            CIANDATA = CIANDATA.append(to_append, ignore_index=True)\n",
    "            count +=1 \n",
    "            if link % 28 == 0:\n",
    "                print('I`m not dead, I`m working! The page is {}'.format(int(link/28+1)))\n",
    "        except:\n",
    "            print('Something went wrong while working with link {}.'.format(link))\n",
    "            return CIANDATA\n",
    "    print('Finished parsing district {}.'.format(district_number))\n",
    "    return CIANDATA\n",
    "\n",
    "    if csv_file == True:\n",
    "        CIANDATA.to_csv('/Users/mariago/Desktop/CIANDATA.csv')"
   ]
  },
  {
   "cell_type": "markdown",
   "metadata": {},
   "source": [
    "### Пройдемся по всем округам:"
   ]
  },
  {
   "cell_type": "code",
   "execution_count": 35,
   "metadata": {
    "collapsed": false,
    "scrolled": true
   },
   "outputs": [
    {
     "name": "stdout",
     "output_type": "stream",
     "text": [
      "I`m not dead, I`m working! The page is 1\n",
      "I`m not dead, I`m working! The page is 2\n",
      "I`m not dead, I`m working! The page is 3\n",
      "I`m not dead, I`m working! The page is 4\n",
      "I`m not dead, I`m working! The page is 5\n",
      "I`m not dead, I`m working! The page is 6\n",
      "I`m not dead, I`m working! The page is 7\n",
      "I`m not dead, I`m working! The page is 8\n",
      "I`m not dead, I`m working! The page is 9\n",
      "I`m not dead, I`m working! The page is 10\n",
      "I`m not dead, I`m working! The page is 11\n",
      "I`m not dead, I`m working! The page is 12\n",
      "I`m not dead, I`m working! The page is 13\n",
      "I`m not dead, I`m working! The page is 14\n",
      "I`m not dead, I`m working! The page is 15\n",
      "I`m not dead, I`m working! The page is 16\n",
      "I`m not dead, I`m working! The page is 17\n",
      "I`m not dead, I`m working! The page is 18\n",
      "I`m not dead, I`m working! The page is 19\n",
      "I`m not dead, I`m working! The page is 20\n",
      "I`m not dead, I`m working! The page is 21\n",
      "I`m not dead, I`m working! The page is 22\n",
      "I`m not dead, I`m working! The page is 23\n",
      "I`m not dead, I`m working! The page is 24\n",
      "I`m not dead, I`m working! The page is 25\n",
      "I`m not dead, I`m working! The page is 26\n",
      "I`m not dead, I`m working! The page is 27\n",
      "I`m not dead, I`m working! The page is 28\n",
      "I`m not dead, I`m working! The page is 29\n",
      "Finished parsing district 0.\n"
     ]
    }
   ],
   "source": [
    "district0 = ParseDistrict(0, range(0, 30, 1))"
   ]
  },
  {
   "cell_type": "code",
   "execution_count": 36,
   "metadata": {
    "collapsed": true
   },
   "outputs": [],
   "source": [
    "district0.to_csv('/Users/mariago/Desktop/district0.csv')"
   ]
  },
  {
   "cell_type": "code",
   "execution_count": 37,
   "metadata": {
    "collapsed": false
   },
   "outputs": [
    {
     "name": "stdout",
     "output_type": "stream",
     "text": [
      "I`m not dead, I`m working! The page is 1\n",
      "I`m not dead, I`m working! The page is 2\n",
      "I`m not dead, I`m working! The page is 3\n",
      "I`m not dead, I`m working! The page is 4\n",
      "I`m not dead, I`m working! The page is 5\n",
      "I`m not dead, I`m working! The page is 6\n",
      "I`m not dead, I`m working! The page is 7\n",
      "I`m not dead, I`m working! The page is 8\n",
      "I`m not dead, I`m working! The page is 9\n",
      "I`m not dead, I`m working! The page is 10\n",
      "I`m not dead, I`m working! The page is 11\n",
      "I`m not dead, I`m working! The page is 12\n",
      "I`m not dead, I`m working! The page is 13\n",
      "I`m not dead, I`m working! The page is 14\n",
      "I`m not dead, I`m working! The page is 15\n",
      "I`m not dead, I`m working! The page is 16\n",
      "I`m not dead, I`m working! The page is 17\n",
      "I`m not dead, I`m working! The page is 18\n",
      "I`m not dead, I`m working! The page is 19\n",
      "I`m not dead, I`m working! The page is 20\n",
      "I`m not dead, I`m working! The page is 21\n",
      "I`m not dead, I`m working! The page is 22\n",
      "I`m not dead, I`m working! The page is 23\n",
      "I`m not dead, I`m working! The page is 24\n",
      "I`m not dead, I`m working! The page is 25\n",
      "I`m not dead, I`m working! The page is 26\n",
      "I`m not dead, I`m working! The page is 27\n",
      "I`m not dead, I`m working! The page is 28\n",
      "I`m not dead, I`m working! The page is 29\n",
      "Finished parsing district 1.\n"
     ]
    }
   ],
   "source": [
    "district1 = ParseDistrict(1, range(0, 30, 1))"
   ]
  },
  {
   "cell_type": "code",
   "execution_count": 38,
   "metadata": {
    "collapsed": true
   },
   "outputs": [],
   "source": [
    "district1.to_csv('/Users/mariago/Desktop/district1.csv')"
   ]
  },
  {
   "cell_type": "code",
   "execution_count": 45,
   "metadata": {
    "collapsed": false
   },
   "outputs": [
    {
     "name": "stdout",
     "output_type": "stream",
     "text": [
      "I`m not dead, I`m working! The page is 1\n",
      "I`m not dead, I`m working! The page is 2\n",
      "I`m not dead, I`m working! The page is 3\n",
      "I`m not dead, I`m working! The page is 4\n",
      "I`m not dead, I`m working! The page is 5\n",
      "I`m not dead, I`m working! The page is 6\n",
      "I`m not dead, I`m working! The page is 7\n",
      "I`m not dead, I`m working! The page is 8\n",
      "I`m not dead, I`m working! The page is 9\n",
      "I`m not dead, I`m working! The page is 10\n",
      "I`m not dead, I`m working! The page is 11\n",
      "I`m not dead, I`m working! The page is 12\n",
      "I`m not dead, I`m working! The page is 13\n",
      "I`m not dead, I`m working! The page is 14\n",
      "I`m not dead, I`m working! The page is 15\n",
      "I`m not dead, I`m working! The page is 16\n",
      "I`m not dead, I`m working! The page is 17\n",
      "I`m not dead, I`m working! The page is 18\n",
      "I`m not dead, I`m working! The page is 19\n",
      "I`m not dead, I`m working! The page is 20\n",
      "I`m not dead, I`m working! The page is 21\n",
      "I`m not dead, I`m working! The page is 22\n",
      "I`m not dead, I`m working! The page is 23\n",
      "I`m not dead, I`m working! The page is 24\n",
      "I`m not dead, I`m working! The page is 25\n",
      "I`m not dead, I`m working! The page is 26\n",
      "I`m not dead, I`m working! The page is 27\n",
      "I`m not dead, I`m working! The page is 28\n",
      "I`m not dead, I`m working! The page is 29\n",
      "Finished parsing district 2.\n"
     ]
    }
   ],
   "source": [
    "district2 = ParseDistrict(2, range(0, 30, 1))"
   ]
  },
  {
   "cell_type": "code",
   "execution_count": 46,
   "metadata": {
    "collapsed": true
   },
   "outputs": [],
   "source": [
    "district2.to_csv('/Users/mariago/Desktop/district2.csv')"
   ]
  },
  {
   "cell_type": "code",
   "execution_count": 43,
   "metadata": {
    "collapsed": false
   },
   "outputs": [
    {
     "name": "stdout",
     "output_type": "stream",
     "text": [
      "I`m not dead, I`m working! The page is 1\n",
      "I`m not dead, I`m working! The page is 2\n",
      "I`m not dead, I`m working! The page is 3\n",
      "I`m not dead, I`m working! The page is 4\n",
      "I`m not dead, I`m working! The page is 5\n",
      "I`m not dead, I`m working! The page is 6\n",
      "I`m not dead, I`m working! The page is 7\n",
      "I`m not dead, I`m working! The page is 8\n",
      "I`m not dead, I`m working! The page is 9\n",
      "I`m not dead, I`m working! The page is 10\n",
      "I`m not dead, I`m working! The page is 11\n",
      "I`m not dead, I`m working! The page is 12\n",
      "I`m not dead, I`m working! The page is 13\n",
      "I`m not dead, I`m working! The page is 14\n",
      "I`m not dead, I`m working! The page is 15\n",
      "I`m not dead, I`m working! The page is 16\n",
      "I`m not dead, I`m working! The page is 17\n",
      "I`m not dead, I`m working! The page is 18\n",
      "I`m not dead, I`m working! The page is 19\n",
      "I`m not dead, I`m working! The page is 20\n",
      "I`m not dead, I`m working! The page is 21\n",
      "I`m not dead, I`m working! The page is 22\n",
      "I`m not dead, I`m working! The page is 23\n",
      "I`m not dead, I`m working! The page is 24\n",
      "I`m not dead, I`m working! The page is 25\n",
      "I`m not dead, I`m working! The page is 26\n",
      "I`m not dead, I`m working! The page is 27\n",
      "I`m not dead, I`m working! The page is 28\n",
      "Finished parsing district 3.\n"
     ]
    }
   ],
   "source": [
    "district3 = ParseDistrict(3, range(0, 30, 1))"
   ]
  },
  {
   "cell_type": "code",
   "execution_count": 47,
   "metadata": {
    "collapsed": true
   },
   "outputs": [],
   "source": [
    "district3.to_csv('/Users/mariago/Desktop/district3.csv')"
   ]
  },
  {
   "cell_type": "code",
   "execution_count": 48,
   "metadata": {
    "collapsed": false
   },
   "outputs": [
    {
     "name": "stdout",
     "output_type": "stream",
     "text": [
      "I`m not dead, I`m working! The page is 1\n",
      "I`m not dead, I`m working! The page is 2\n",
      "I`m not dead, I`m working! The page is 3\n",
      "I`m not dead, I`m working! The page is 4\n",
      "I`m not dead, I`m working! The page is 5\n",
      "I`m not dead, I`m working! The page is 6\n",
      "I`m not dead, I`m working! The page is 7\n",
      "I`m not dead, I`m working! The page is 8\n",
      "I`m not dead, I`m working! The page is 9\n",
      "I`m not dead, I`m working! The page is 10\n",
      "I`m not dead, I`m working! The page is 11\n",
      "I`m not dead, I`m working! The page is 12\n",
      "I`m not dead, I`m working! The page is 13\n",
      "I`m not dead, I`m working! The page is 14\n",
      "I`m not dead, I`m working! The page is 15\n",
      "I`m not dead, I`m working! The page is 16\n",
      "I`m not dead, I`m working! The page is 17\n",
      "I`m not dead, I`m working! The page is 18\n",
      "I`m not dead, I`m working! The page is 19\n",
      "I`m not dead, I`m working! The page is 20\n",
      "I`m not dead, I`m working! The page is 21\n",
      "Something went wrong while working with link 571.\n"
     ]
    }
   ],
   "source": [
    "district4 = ParseDistrict(4, range(0, 30, 1))"
   ]
  },
  {
   "cell_type": "code",
   "execution_count": 49,
   "metadata": {
    "collapsed": true
   },
   "outputs": [],
   "source": [
    "district4.to_csv('/Users/mariago/Desktop/district4.csv')"
   ]
  },
  {
   "cell_type": "code",
   "execution_count": 50,
   "metadata": {
    "collapsed": false
   },
   "outputs": [
    {
     "name": "stdout",
     "output_type": "stream",
     "text": [
      "I`m not dead, I`m working! The page is 1\n",
      "I`m not dead, I`m working! The page is 2\n",
      "I`m not dead, I`m working! The page is 3\n",
      "I`m not dead, I`m working! The page is 4\n",
      "I`m not dead, I`m working! The page is 5\n",
      "I`m not dead, I`m working! The page is 6\n",
      "I`m not dead, I`m working! The page is 7\n",
      "I`m not dead, I`m working! The page is 8\n",
      "I`m not dead, I`m working! The page is 9\n",
      "I`m not dead, I`m working! The page is 10\n",
      "I`m not dead, I`m working! The page is 11\n",
      "I`m not dead, I`m working! The page is 12\n",
      "I`m not dead, I`m working! The page is 13\n",
      "I`m not dead, I`m working! The page is 14\n",
      "I`m not dead, I`m working! The page is 15\n",
      "I`m not dead, I`m working! The page is 16\n",
      "I`m not dead, I`m working! The page is 17\n",
      "I`m not dead, I`m working! The page is 18\n",
      "I`m not dead, I`m working! The page is 19\n",
      "I`m not dead, I`m working! The page is 20\n",
      "I`m not dead, I`m working! The page is 21\n",
      "I`m not dead, I`m working! The page is 22\n",
      "I`m not dead, I`m working! The page is 23\n",
      "I`m not dead, I`m working! The page is 24\n",
      "I`m not dead, I`m working! The page is 25\n",
      "I`m not dead, I`m working! The page is 26\n",
      "I`m not dead, I`m working! The page is 27\n",
      "I`m not dead, I`m working! The page is 28\n",
      "I`m not dead, I`m working! The page is 29\n",
      "Finished parsing district 5.\n"
     ]
    }
   ],
   "source": [
    "district5 = ParseDistrict(5, range(0, 30, 1))"
   ]
  },
  {
   "cell_type": "code",
   "execution_count": 51,
   "metadata": {
    "collapsed": true
   },
   "outputs": [],
   "source": [
    "district5.to_csv('/Users/mariago/Desktop/district5.csv')"
   ]
  },
  {
   "cell_type": "code",
   "execution_count": 52,
   "metadata": {
    "collapsed": false
   },
   "outputs": [
    {
     "name": "stdout",
     "output_type": "stream",
     "text": [
      "I`m not dead, I`m working! The page is 1\n",
      "I`m not dead, I`m working! The page is 2\n",
      "I`m not dead, I`m working! The page is 3\n",
      "I`m not dead, I`m working! The page is 4\n",
      "I`m not dead, I`m working! The page is 5\n",
      "I`m not dead, I`m working! The page is 6\n",
      "I`m not dead, I`m working! The page is 7\n",
      "I`m not dead, I`m working! The page is 8\n",
      "I`m not dead, I`m working! The page is 9\n",
      "I`m not dead, I`m working! The page is 10\n",
      "I`m not dead, I`m working! The page is 11\n",
      "I`m not dead, I`m working! The page is 12\n",
      "I`m not dead, I`m working! The page is 13\n",
      "I`m not dead, I`m working! The page is 14\n",
      "I`m not dead, I`m working! The page is 15\n",
      "I`m not dead, I`m working! The page is 16\n",
      "I`m not dead, I`m working! The page is 17\n",
      "I`m not dead, I`m working! The page is 18\n",
      "I`m not dead, I`m working! The page is 19\n",
      "I`m not dead, I`m working! The page is 20\n",
      "I`m not dead, I`m working! The page is 21\n",
      "I`m not dead, I`m working! The page is 22\n",
      "I`m not dead, I`m working! The page is 23\n",
      "I`m not dead, I`m working! The page is 24\n",
      "I`m not dead, I`m working! The page is 25\n",
      "I`m not dead, I`m working! The page is 26\n",
      "I`m not dead, I`m working! The page is 27\n",
      "I`m not dead, I`m working! The page is 28\n",
      "I`m not dead, I`m working! The page is 29\n",
      "Finished parsing district 6.\n"
     ]
    }
   ],
   "source": [
    "district6 = ParseDistrict(6, range(0, 30, 1))"
   ]
  },
  {
   "cell_type": "code",
   "execution_count": 53,
   "metadata": {
    "collapsed": true
   },
   "outputs": [],
   "source": [
    "district6.to_csv('/Users/mariago/Desktop/district6.csv')"
   ]
  },
  {
   "cell_type": "code",
   "execution_count": 54,
   "metadata": {
    "collapsed": false
   },
   "outputs": [
    {
     "name": "stdout",
     "output_type": "stream",
     "text": [
      "I`m not dead, I`m working! The page is 1\n",
      "I`m not dead, I`m working! The page is 2\n",
      "I`m not dead, I`m working! The page is 3\n",
      "I`m not dead, I`m working! The page is 4\n",
      "I`m not dead, I`m working! The page is 5\n",
      "I`m not dead, I`m working! The page is 6\n",
      "I`m not dead, I`m working! The page is 7\n",
      "I`m not dead, I`m working! The page is 8\n",
      "I`m not dead, I`m working! The page is 9\n",
      "I`m not dead, I`m working! The page is 10\n",
      "I`m not dead, I`m working! The page is 11\n",
      "I`m not dead, I`m working! The page is 12\n",
      "I`m not dead, I`m working! The page is 13\n",
      "I`m not dead, I`m working! The page is 14\n",
      "I`m not dead, I`m working! The page is 15\n",
      "I`m not dead, I`m working! The page is 16\n",
      "I`m not dead, I`m working! The page is 17\n",
      "I`m not dead, I`m working! The page is 18\n",
      "I`m not dead, I`m working! The page is 19\n",
      "I`m not dead, I`m working! The page is 20\n",
      "I`m not dead, I`m working! The page is 21\n",
      "I`m not dead, I`m working! The page is 22\n",
      "I`m not dead, I`m working! The page is 23\n",
      "I`m not dead, I`m working! The page is 24\n",
      "I`m not dead, I`m working! The page is 25\n",
      "I`m not dead, I`m working! The page is 26\n",
      "I`m not dead, I`m working! The page is 27\n",
      "I`m not dead, I`m working! The page is 28\n",
      "I`m not dead, I`m working! The page is 29\n",
      "Finished parsing district 7.\n"
     ]
    }
   ],
   "source": [
    "district7 = ParseDistrict(7, range(0, 30, 1))"
   ]
  },
  {
   "cell_type": "code",
   "execution_count": 55,
   "metadata": {
    "collapsed": true
   },
   "outputs": [],
   "source": [
    "district7.to_csv('/Users/mariago/Desktop/district7.csv')"
   ]
  },
  {
   "cell_type": "code",
   "execution_count": 56,
   "metadata": {
    "collapsed": false
   },
   "outputs": [
    {
     "name": "stdout",
     "output_type": "stream",
     "text": [
      "I`m not dead, I`m working! The page is 1\n",
      "I`m not dead, I`m working! The page is 2\n",
      "I`m not dead, I`m working! The page is 3\n",
      "I`m not dead, I`m working! The page is 4\n",
      "I`m not dead, I`m working! The page is 5\n",
      "I`m not dead, I`m working! The page is 6\n",
      "I`m not dead, I`m working! The page is 7\n",
      "I`m not dead, I`m working! The page is 8\n",
      "I`m not dead, I`m working! The page is 9\n",
      "I`m not dead, I`m working! The page is 10\n",
      "I`m not dead, I`m working! The page is 11\n",
      "I`m not dead, I`m working! The page is 12\n",
      "I`m not dead, I`m working! The page is 13\n",
      "I`m not dead, I`m working! The page is 14\n",
      "I`m not dead, I`m working! The page is 15\n",
      "I`m not dead, I`m working! The page is 16\n",
      "I`m not dead, I`m working! The page is 17\n",
      "I`m not dead, I`m working! The page is 18\n",
      "I`m not dead, I`m working! The page is 19\n",
      "I`m not dead, I`m working! The page is 20\n",
      "I`m not dead, I`m working! The page is 21\n",
      "I`m not dead, I`m working! The page is 22\n",
      "I`m not dead, I`m working! The page is 23\n",
      "I`m not dead, I`m working! The page is 24\n",
      "I`m not dead, I`m working! The page is 25\n",
      "I`m not dead, I`m working! The page is 26\n",
      "I`m not dead, I`m working! The page is 27\n",
      "I`m not dead, I`m working! The page is 28\n",
      "I`m not dead, I`m working! The page is 29\n",
      "Finished parsing district 8.\n"
     ]
    }
   ],
   "source": [
    "district8 = ParseDistrict(8, range(0, 30, 1))"
   ]
  },
  {
   "cell_type": "code",
   "execution_count": 57,
   "metadata": {
    "collapsed": true
   },
   "outputs": [],
   "source": [
    "district8.to_csv('/Users/mariago/Desktop/district8.csv')"
   ]
  },
  {
   "cell_type": "code",
   "execution_count": 58,
   "metadata": {
    "collapsed": false,
    "scrolled": true
   },
   "outputs": [
    {
     "name": "stdout",
     "output_type": "stream",
     "text": [
      "I`m not dead, I`m working! The page is 1\n",
      "Finished parsing district 9.\n"
     ]
    }
   ],
   "source": [
    "district9 = ParseDistrict(9, range(0, 30, 1))"
   ]
  },
  {
   "cell_type": "code",
   "execution_count": 59,
   "metadata": {
    "collapsed": true
   },
   "outputs": [],
   "source": [
    "district9.to_csv('/Users/mariago/Desktop/district9.csv')"
   ]
  },
  {
   "cell_type": "code",
   "execution_count": 60,
   "metadata": {
    "collapsed": false
   },
   "outputs": [
    {
     "name": "stdout",
     "output_type": "stream",
     "text": [
      "I`m not dead, I`m working! The page is 1\n",
      "I`m not dead, I`m working! The page is 2\n",
      "I`m not dead, I`m working! The page is 3\n",
      "I`m not dead, I`m working! The page is 4\n",
      "I`m not dead, I`m working! The page is 5\n",
      "I`m not dead, I`m working! The page is 6\n",
      "I`m not dead, I`m working! The page is 7\n",
      "I`m not dead, I`m working! The page is 8\n",
      "I`m not dead, I`m working! The page is 9\n",
      "I`m not dead, I`m working! The page is 10\n",
      "I`m not dead, I`m working! The page is 11\n",
      "I`m not dead, I`m working! The page is 12\n",
      "I`m not dead, I`m working! The page is 13\n",
      "I`m not dead, I`m working! The page is 14\n",
      "I`m not dead, I`m working! The page is 15\n",
      "I`m not dead, I`m working! The page is 16\n",
      "I`m not dead, I`m working! The page is 17\n",
      "I`m not dead, I`m working! The page is 18\n",
      "I`m not dead, I`m working! The page is 19\n",
      "I`m not dead, I`m working! The page is 20\n",
      "I`m not dead, I`m working! The page is 21\n",
      "I`m not dead, I`m working! The page is 22\n",
      "I`m not dead, I`m working! The page is 23\n",
      "I`m not dead, I`m working! The page is 24\n",
      "I`m not dead, I`m working! The page is 25\n",
      "I`m not dead, I`m working! The page is 26\n",
      "I`m not dead, I`m working! The page is 27\n",
      "Finished parsing district 10.\n"
     ]
    }
   ],
   "source": [
    "district10 = ParseDistrict(10, range(0, 30, 1))"
   ]
  },
  {
   "cell_type": "code",
   "execution_count": 61,
   "metadata": {
    "collapsed": true
   },
   "outputs": [],
   "source": [
    "district10.to_csv('/Users/mariago/Desktop/district10.csv')"
   ]
  },
  {
   "cell_type": "code",
   "execution_count": 62,
   "metadata": {
    "collapsed": false
   },
   "outputs": [
    {
     "name": "stdout",
     "output_type": "stream",
     "text": [
      "I`m not dead, I`m working! The page is 1\n",
      "I`m not dead, I`m working! The page is 2\n",
      "I`m not dead, I`m working! The page is 3\n",
      "I`m not dead, I`m working! The page is 4\n",
      "I`m not dead, I`m working! The page is 5\n",
      "I`m not dead, I`m working! The page is 6\n",
      "I`m not dead, I`m working! The page is 7\n",
      "I`m not dead, I`m working! The page is 8\n",
      "I`m not dead, I`m working! The page is 9\n",
      "I`m not dead, I`m working! The page is 10\n",
      "I`m not dead, I`m working! The page is 11\n",
      "I`m not dead, I`m working! The page is 12\n",
      "I`m not dead, I`m working! The page is 13\n",
      "I`m not dead, I`m working! The page is 14\n",
      "I`m not dead, I`m working! The page is 15\n",
      "I`m not dead, I`m working! The page is 16\n",
      "I`m not dead, I`m working! The page is 17\n",
      "I`m not dead, I`m working! The page is 18\n",
      "I`m not dead, I`m working! The page is 19\n",
      "I`m not dead, I`m working! The page is 20\n",
      "I`m not dead, I`m working! The page is 21\n",
      "I`m not dead, I`m working! The page is 22\n",
      "I`m not dead, I`m working! The page is 23\n",
      "I`m not dead, I`m working! The page is 24\n",
      "I`m not dead, I`m working! The page is 25\n",
      "I`m not dead, I`m working! The page is 26\n",
      "I`m not dead, I`m working! The page is 27\n",
      "Finished parsing district 11.\n"
     ]
    }
   ],
   "source": [
    "district11 = ParseDistrict(11, range(0, 30, 1))"
   ]
  },
  {
   "cell_type": "code",
   "execution_count": 63,
   "metadata": {
    "collapsed": true
   },
   "outputs": [],
   "source": [
    "district11.to_csv('/Users/mariago/Desktop/district11.csv')"
   ]
  },
  {
   "cell_type": "markdown",
   "metadata": {},
   "source": [
    "### Сведем всё в одну таблицу:"
   ]
  },
  {
   "cell_type": "code",
   "execution_count": 73,
   "metadata": {
    "collapsed": false
   },
   "outputs": [],
   "source": [
    "AllDistricts = pd.concat([district0, district1, district2, district3, district4, district5, district6, district7, district8, district9, district10, district11], axis = 0)"
   ]
  },
  {
   "cell_type": "code",
   "execution_count": 75,
   "metadata": {
    "collapsed": true
   },
   "outputs": [],
   "source": [
    "AllDistricts = AllDistricts.reset_index(drop=True)"
   ]
  },
  {
   "cell_type": "code",
   "execution_count": 76,
   "metadata": {
    "collapsed": false
   },
   "outputs": [],
   "source": [
    "AllDistricts.to_csv('/Users/mariago/Desktop/ciandata.csv')"
   ]
  }
 ],
 "metadata": {
  "kernelspec": {
   "display_name": "Python [Root]",
   "language": "python",
   "name": "Python [Root]"
  },
  "language_info": {
   "codemirror_mode": {
    "name": "ipython",
    "version": 3
   },
   "file_extension": ".py",
   "mimetype": "text/x-python",
   "name": "python",
   "nbconvert_exporter": "python",
   "pygments_lexer": "ipython3",
   "version": "3.5.2"
  }
 },
 "nbformat": 4,
 "nbformat_minor": 0
}
